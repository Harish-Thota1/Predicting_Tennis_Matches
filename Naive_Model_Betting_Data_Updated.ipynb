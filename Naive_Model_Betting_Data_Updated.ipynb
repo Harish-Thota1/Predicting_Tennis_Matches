{
 "cells": [
  {
   "cell_type": "markdown",
   "id": "0f21db3b",
   "metadata": {},
   "source": [
    "### Import Libraries"
   ]
  },
  {
   "cell_type": "code",
   "execution_count": 1,
   "id": "dd9ac8e5",
   "metadata": {},
   "outputs": [
    {
     "name": "stdout",
     "output_type": "stream",
     "text": [
      "importing Jupyter notebook from Tennis_Analysis_Tools.ipynb\n"
     ]
    }
   ],
   "source": [
    "# Import the import_ipynb library to enable importing Jupyter notebooks as modules\n",
    "import import_ipynb\n",
    "\n",
    "# Import custom Tennis Analysis Tools module\n",
    "import Tennis_Analysis_Tools as tennis_tools\n",
    "\n",
    "# Import necessary libraries\n",
    "import numpy as np                   # For numerical operations\n",
    "import pandas as pd                  # For data manipulation and analysis\n",
    "import matplotlib.pyplot as plt      # For data visualization\n",
    "from sklearn.preprocessing import OneHotEncoder  # For one-hot encoding categorical data\n",
    "\n",
    "# Suppress warnings for cleaner output\n",
    "import warnings\n",
    "warnings.filterwarnings('ignore')"
   ]
  },
  {
   "cell_type": "markdown",
   "id": "3aa2d6e3",
   "metadata": {},
   "source": [
    "### Function to preprocess the dataset"
   ]
  },
  {
   "cell_type": "code",
   "execution_count": 2,
   "id": "5cfe1716",
   "metadata": {},
   "outputs": [],
   "source": [
    "def preprocess_dataset(df):\n",
    "    \n",
    "    \"\"\"\n",
    "    Preprocesses the tennis betting dataset by filtering completed matches, \n",
    "    converting rank columns to numeric, handling missing values, and creating \n",
    "    a feature to indicate if the higher-ranked player won. The final dataset \n",
    "    retains only relevant columns and fills any remaining missing values with \n",
    "    column means.\n",
    "    \n",
    "    \"\"\"\n",
    "    # Filter the dataset to include only completed matches\n",
    "    df = df[df['Comment'].isin(['Completed'])]\n",
    "\n",
    "    # Convert 'WRank' and 'LRank' columns to numeric, coercing errors to NaN\n",
    "    df['WRank'] = pd.to_numeric(df['WRank'], errors='coerce')\n",
    "    df['LRank'] = pd.to_numeric(df['LRank'], errors='coerce')\n",
    "\n",
    "    # Fill missing rank values with 100000 (indicative of a very low rank) and convert to float\n",
    "    df['WRank'] = df['WRank'].fillna(100000).astype(float)\n",
    "    df['LRank'] = df['LRank'].fillna(100000).astype(float)\n",
    "\n",
    "    # Create a column indicating if the higher-ranked player won (1 if true, 0 if false)\n",
    "    df['higher_rank_won'] = (df['WRank'] < df['LRank']).astype(int)\n",
    "\n",
    "    # Select relevant columns for the final dataset\n",
    "    df = df[['Date', 'WRank', 'LRank', 'higher_rank_won']]\n",
    "\n",
    "    # Calculate means of all numeric columns and fill missing values with these means\n",
    "    means = df.select_dtypes(include=[np.number]).mean()\n",
    "    df.fillna(means, inplace=True)\n",
    "\n",
    "    return df"
   ]
  },
  {
   "cell_type": "markdown",
   "id": "f3f6a7b5",
   "metadata": {},
   "source": [
    "### Function to find the probability that a higher rank player wins"
   ]
  },
  {
   "cell_type": "code",
   "execution_count": 3,
   "id": "179df096",
   "metadata": {},
   "outputs": [],
   "source": [
    "def probability_higher_ranked_wins(betting_data_df):\n",
    "    \n",
    "    # Calculate the number of matches won by the higher-ranked player\n",
    "    matches_won_by_higher_ranked = betting_data_df.apply(\n",
    "        lambda row: row['WRank'] < row['LRank'], axis=1).sum()\n",
    "\n",
    "    # Get the total number of matches in the dataset\n",
    "    total_matches = len(betting_data_df)\n",
    "\n",
    "    # Calculate the probability that a higher-ranked player wins\n",
    "    probability_higher_ranked_wins = matches_won_by_higher_ranked / total_matches\n",
    "\n",
    "    # Return the probability\n",
    "    return probability_higher_ranked_wins"
   ]
  },
  {
   "cell_type": "markdown",
   "id": "86a60f5a",
   "metadata": {},
   "source": [
    "### Loading betting data of tennis"
   ]
  },
  {
   "cell_type": "code",
   "execution_count": 4,
   "id": "1602bcdf",
   "metadata": {},
   "outputs": [],
   "source": [
    "# Initialize a dictionary to store dataframes for each year\n",
    "betting_data_dfs = {}"
   ]
  },
  {
   "cell_type": "code",
   "execution_count": 5,
   "id": "9475298e",
   "metadata": {},
   "outputs": [],
   "source": [
    "# Loop through each year from 2005 to 2019\n",
    "for current_year in range(2005, 2020): \n",
    "    # Determine the file extension based on the year\n",
    "    file_extension = 'xls' if current_year < 2013 else 'xlsx'\n",
    "    \n",
    "    # Construct the file path using the determined file extension\n",
    "    file_path = f\"/Users/harishthota/Desktop/UOA Project/Betting_Odds_Tennis/{current_year}.{file_extension}\"\n",
    "    \n",
    "    # Read the Excel file and store it in the dictionary with the year as the key\n",
    "    betting_data_dfs[current_year] = pd.read_excel(file_path)"
   ]
  },
  {
   "cell_type": "code",
   "execution_count": 6,
   "id": "bf476af2",
   "metadata": {},
   "outputs": [],
   "source": [
    "# Combine DataFrames from all years into a single DataFrame, reindexing rows.\n",
    "betting_data_dfs = pd.concat(betting_data_dfs.values(), ignore_index=True)"
   ]
  },
  {
   "cell_type": "markdown",
   "id": "feaa39e3",
   "metadata": {},
   "source": [
    "### Analyzing Betting Data of Tennis"
   ]
  },
  {
   "cell_type": "code",
   "execution_count": 7,
   "id": "65ac960e",
   "metadata": {
    "scrolled": true
   },
   "outputs": [
    {
     "name": "stdout",
     "output_type": "stream",
     "text": [
      "<class 'pandas.core.frame.DataFrame'>\n",
      "RangeIndex: 40390 entries, 0 to 40389\n",
      "Data columns (total 48 columns):\n",
      " #   Column      Non-Null Count  Dtype         \n",
      "---  ------      --------------  -----         \n",
      " 0   ATP         40390 non-null  int64         \n",
      " 1   Location    40390 non-null  object        \n",
      " 2   Tournament  40390 non-null  object        \n",
      " 3   Date        40390 non-null  datetime64[ns]\n",
      " 4   Series      40390 non-null  object        \n",
      " 5   Court       40390 non-null  object        \n",
      " 6   Surface     40390 non-null  object        \n",
      " 7   Round       40390 non-null  object        \n",
      " 8   Best of     40390 non-null  int64         \n",
      " 9   Winner      40390 non-null  object        \n",
      " 10  Loser       40390 non-null  object        \n",
      " 11  WRank       40375 non-null  float64       \n",
      " 12  LRank       40303 non-null  float64       \n",
      " 13  WPts        38701 non-null  float64       \n",
      " 14  LPts        38631 non-null  float64       \n",
      " 15  W1          40155 non-null  float64       \n",
      " 16  L1          40157 non-null  float64       \n",
      " 17  W2          39765 non-null  object        \n",
      " 18  L2          39766 non-null  object        \n",
      " 19  W3          18824 non-null  object        \n",
      " 20  L3          18824 non-null  object        \n",
      " 21  W4          3647 non-null   float64       \n",
      " 22  L4          3647 non-null   float64       \n",
      " 23  W5          1378 non-null   float64       \n",
      " 24  L5          1378 non-null   float64       \n",
      " 25  Wsets       40160 non-null  float64       \n",
      " 26  Lsets       40159 non-null  float64       \n",
      " 27  Comment     40390 non-null  object        \n",
      " 28  B365W       39843 non-null  float64       \n",
      " 29  B365L       39866 non-null  float64       \n",
      " 30  CBW         8053 non-null   float64       \n",
      " 31  CBL         8053 non-null   float64       \n",
      " 32  EXW         36780 non-null  object        \n",
      " 33  EXL         36785 non-null  float64       \n",
      " 34  IWW         2819 non-null   float64       \n",
      " 35  IWL         2819 non-null   float64       \n",
      " 36  PSW         37240 non-null  float64       \n",
      " 37  PSL         37240 non-null  float64       \n",
      " 38  UBW         10671 non-null  float64       \n",
      " 39  UBL         10671 non-null  float64       \n",
      " 40  LBW         28131 non-null  float64       \n",
      " 41  LBL         28142 non-null  float64       \n",
      " 42  SJW         15572 non-null  float64       \n",
      " 43  SJL         15579 non-null  float64       \n",
      " 44  MaxW        25354 non-null  float64       \n",
      " 45  MaxL        25354 non-null  float64       \n",
      " 46  AvgW        25354 non-null  float64       \n",
      " 47  AvgL        25354 non-null  float64       \n",
      "dtypes: datetime64[ns](1), float64(31), int64(2), object(14)\n",
      "memory usage: 14.8+ MB\n"
     ]
    }
   ],
   "source": [
    "# Display a summary of the DataFrame to understand its structure and data types\n",
    "betting_data_dfs.info()"
   ]
  },
  {
   "cell_type": "code",
   "execution_count": 8,
   "id": "020dd533",
   "metadata": {},
   "outputs": [
    {
     "data": {
      "text/html": [
       "<div>\n",
       "<style scoped>\n",
       "    .dataframe tbody tr th:only-of-type {\n",
       "        vertical-align: middle;\n",
       "    }\n",
       "\n",
       "    .dataframe tbody tr th {\n",
       "        vertical-align: top;\n",
       "    }\n",
       "\n",
       "    .dataframe thead th {\n",
       "        text-align: right;\n",
       "    }\n",
       "</style>\n",
       "<table border=\"1\" class=\"dataframe\">\n",
       "  <thead>\n",
       "    <tr style=\"text-align: right;\">\n",
       "      <th></th>\n",
       "      <th>ATP</th>\n",
       "      <th>Best of</th>\n",
       "      <th>WRank</th>\n",
       "      <th>LRank</th>\n",
       "      <th>WPts</th>\n",
       "      <th>LPts</th>\n",
       "      <th>W1</th>\n",
       "      <th>L1</th>\n",
       "      <th>W4</th>\n",
       "      <th>L4</th>\n",
       "      <th>...</th>\n",
       "      <th>UBW</th>\n",
       "      <th>UBL</th>\n",
       "      <th>LBW</th>\n",
       "      <th>LBL</th>\n",
       "      <th>SJW</th>\n",
       "      <th>SJL</th>\n",
       "      <th>MaxW</th>\n",
       "      <th>MaxL</th>\n",
       "      <th>AvgW</th>\n",
       "      <th>AvgL</th>\n",
       "    </tr>\n",
       "  </thead>\n",
       "  <tbody>\n",
       "    <tr>\n",
       "      <th>count</th>\n",
       "      <td>40390.000000</td>\n",
       "      <td>40390.000000</td>\n",
       "      <td>40375.000000</td>\n",
       "      <td>40303.000000</td>\n",
       "      <td>38701.000000</td>\n",
       "      <td>38631.000000</td>\n",
       "      <td>40155.000000</td>\n",
       "      <td>40157.000000</td>\n",
       "      <td>3647.000000</td>\n",
       "      <td>3647.000000</td>\n",
       "      <td>...</td>\n",
       "      <td>10671.000000</td>\n",
       "      <td>10671.000000</td>\n",
       "      <td>28131.000000</td>\n",
       "      <td>28142.000000</td>\n",
       "      <td>15572.000000</td>\n",
       "      <td>15579.000000</td>\n",
       "      <td>25354.000000</td>\n",
       "      <td>25354.000000</td>\n",
       "      <td>25354.000000</td>\n",
       "      <td>25354.000000</td>\n",
       "    </tr>\n",
       "    <tr>\n",
       "      <th>mean</th>\n",
       "      <td>32.974944</td>\n",
       "      <td>3.378311</td>\n",
       "      <td>57.801536</td>\n",
       "      <td>90.384860</td>\n",
       "      <td>1828.537195</td>\n",
       "      <td>1054.728379</td>\n",
       "      <td>5.801992</td>\n",
       "      <td>4.075155</td>\n",
       "      <td>5.783384</td>\n",
       "      <td>3.865643</td>\n",
       "      <td>...</td>\n",
       "      <td>1.815867</td>\n",
       "      <td>3.542479</td>\n",
       "      <td>1.810226</td>\n",
       "      <td>3.451461</td>\n",
       "      <td>1.796538</td>\n",
       "      <td>3.557943</td>\n",
       "      <td>1.998610</td>\n",
       "      <td>7.847864</td>\n",
       "      <td>1.838168</td>\n",
       "      <td>3.547658</td>\n",
       "    </tr>\n",
       "    <tr>\n",
       "      <th>std</th>\n",
       "      <td>18.006138</td>\n",
       "      <td>0.783274</td>\n",
       "      <td>72.735132</td>\n",
       "      <td>115.423997</td>\n",
       "      <td>2278.996487</td>\n",
       "      <td>1212.422674</td>\n",
       "      <td>1.232787</td>\n",
       "      <td>1.841617</td>\n",
       "      <td>1.262227</td>\n",
       "      <td>1.903181</td>\n",
       "      <td>...</td>\n",
       "      <td>0.996238</td>\n",
       "      <td>3.646316</td>\n",
       "      <td>1.031691</td>\n",
       "      <td>3.075889</td>\n",
       "      <td>1.004273</td>\n",
       "      <td>3.272510</td>\n",
       "      <td>1.582432</td>\n",
       "      <td>376.246830</td>\n",
       "      <td>1.089277</td>\n",
       "      <td>3.227770</td>\n",
       "    </tr>\n",
       "    <tr>\n",
       "      <th>min</th>\n",
       "      <td>1.000000</td>\n",
       "      <td>3.000000</td>\n",
       "      <td>1.000000</td>\n",
       "      <td>1.000000</td>\n",
       "      <td>1.000000</td>\n",
       "      <td>1.000000</td>\n",
       "      <td>0.000000</td>\n",
       "      <td>0.000000</td>\n",
       "      <td>0.000000</td>\n",
       "      <td>0.000000</td>\n",
       "      <td>...</td>\n",
       "      <td>1.010000</td>\n",
       "      <td>1.020000</td>\n",
       "      <td>1.000000</td>\n",
       "      <td>1.000000</td>\n",
       "      <td>1.000000</td>\n",
       "      <td>1.010000</td>\n",
       "      <td>1.010000</td>\n",
       "      <td>1.010000</td>\n",
       "      <td>1.010000</td>\n",
       "      <td>1.010000</td>\n",
       "    </tr>\n",
       "    <tr>\n",
       "      <th>25%</th>\n",
       "      <td>19.000000</td>\n",
       "      <td>3.000000</td>\n",
       "      <td>16.000000</td>\n",
       "      <td>34.000000</td>\n",
       "      <td>645.000000</td>\n",
       "      <td>502.000000</td>\n",
       "      <td>6.000000</td>\n",
       "      <td>3.000000</td>\n",
       "      <td>6.000000</td>\n",
       "      <td>2.000000</td>\n",
       "      <td>...</td>\n",
       "      <td>1.240000</td>\n",
       "      <td>1.750000</td>\n",
       "      <td>1.250000</td>\n",
       "      <td>1.730000</td>\n",
       "      <td>1.220000</td>\n",
       "      <td>1.730000</td>\n",
       "      <td>1.300000</td>\n",
       "      <td>1.840000</td>\n",
       "      <td>1.250000</td>\n",
       "      <td>1.740000</td>\n",
       "    </tr>\n",
       "    <tr>\n",
       "      <th>50%</th>\n",
       "      <td>33.000000</td>\n",
       "      <td>3.000000</td>\n",
       "      <td>40.000000</td>\n",
       "      <td>64.000000</td>\n",
       "      <td>1010.000000</td>\n",
       "      <td>745.000000</td>\n",
       "      <td>6.000000</td>\n",
       "      <td>4.000000</td>\n",
       "      <td>6.000000</td>\n",
       "      <td>4.000000</td>\n",
       "      <td>...</td>\n",
       "      <td>1.500000</td>\n",
       "      <td>2.500000</td>\n",
       "      <td>1.500000</td>\n",
       "      <td>2.500000</td>\n",
       "      <td>1.500000</td>\n",
       "      <td>2.630000</td>\n",
       "      <td>1.580000</td>\n",
       "      <td>2.750000</td>\n",
       "      <td>1.510000</td>\n",
       "      <td>2.530000</td>\n",
       "    </tr>\n",
       "    <tr>\n",
       "      <th>75%</th>\n",
       "      <td>49.000000</td>\n",
       "      <td>3.000000</td>\n",
       "      <td>75.000000</td>\n",
       "      <td>102.000000</td>\n",
       "      <td>1890.000000</td>\n",
       "      <td>1150.000000</td>\n",
       "      <td>6.000000</td>\n",
       "      <td>6.000000</td>\n",
       "      <td>6.000000</td>\n",
       "      <td>6.000000</td>\n",
       "      <td>...</td>\n",
       "      <td>2.030000</td>\n",
       "      <td>3.850000</td>\n",
       "      <td>2.000000</td>\n",
       "      <td>4.000000</td>\n",
       "      <td>2.000000</td>\n",
       "      <td>4.000000</td>\n",
       "      <td>2.210000</td>\n",
       "      <td>4.470000</td>\n",
       "      <td>2.070000</td>\n",
       "      <td>3.910000</td>\n",
       "    </tr>\n",
       "    <tr>\n",
       "      <th>max</th>\n",
       "      <td>67.000000</td>\n",
       "      <td>5.000000</td>\n",
       "      <td>1890.000000</td>\n",
       "      <td>2159.000000</td>\n",
       "      <td>16950.000000</td>\n",
       "      <td>16950.000000</td>\n",
       "      <td>7.000000</td>\n",
       "      <td>7.000000</td>\n",
       "      <td>7.000000</td>\n",
       "      <td>7.000000</td>\n",
       "      <td>...</td>\n",
       "      <td>18.000000</td>\n",
       "      <td>60.000000</td>\n",
       "      <td>26.000000</td>\n",
       "      <td>51.000000</td>\n",
       "      <td>19.000000</td>\n",
       "      <td>81.000000</td>\n",
       "      <td>76.000000</td>\n",
       "      <td>42586.000000</td>\n",
       "      <td>23.450000</td>\n",
       "      <td>36.440000</td>\n",
       "    </tr>\n",
       "  </tbody>\n",
       "</table>\n",
       "<p>8 rows × 33 columns</p>\n",
       "</div>"
      ],
      "text/plain": [
       "                ATP       Best of         WRank         LRank          WPts  \\\n",
       "count  40390.000000  40390.000000  40375.000000  40303.000000  38701.000000   \n",
       "mean      32.974944      3.378311     57.801536     90.384860   1828.537195   \n",
       "std       18.006138      0.783274     72.735132    115.423997   2278.996487   \n",
       "min        1.000000      3.000000      1.000000      1.000000      1.000000   \n",
       "25%       19.000000      3.000000     16.000000     34.000000    645.000000   \n",
       "50%       33.000000      3.000000     40.000000     64.000000   1010.000000   \n",
       "75%       49.000000      3.000000     75.000000    102.000000   1890.000000   \n",
       "max       67.000000      5.000000   1890.000000   2159.000000  16950.000000   \n",
       "\n",
       "               LPts            W1            L1           W4           L4  \\\n",
       "count  38631.000000  40155.000000  40157.000000  3647.000000  3647.000000   \n",
       "mean    1054.728379      5.801992      4.075155     5.783384     3.865643   \n",
       "std     1212.422674      1.232787      1.841617     1.262227     1.903181   \n",
       "min        1.000000      0.000000      0.000000     0.000000     0.000000   \n",
       "25%      502.000000      6.000000      3.000000     6.000000     2.000000   \n",
       "50%      745.000000      6.000000      4.000000     6.000000     4.000000   \n",
       "75%     1150.000000      6.000000      6.000000     6.000000     6.000000   \n",
       "max    16950.000000      7.000000      7.000000     7.000000     7.000000   \n",
       "\n",
       "       ...           UBW           UBL           LBW           LBL  \\\n",
       "count  ...  10671.000000  10671.000000  28131.000000  28142.000000   \n",
       "mean   ...      1.815867      3.542479      1.810226      3.451461   \n",
       "std    ...      0.996238      3.646316      1.031691      3.075889   \n",
       "min    ...      1.010000      1.020000      1.000000      1.000000   \n",
       "25%    ...      1.240000      1.750000      1.250000      1.730000   \n",
       "50%    ...      1.500000      2.500000      1.500000      2.500000   \n",
       "75%    ...      2.030000      3.850000      2.000000      4.000000   \n",
       "max    ...     18.000000     60.000000     26.000000     51.000000   \n",
       "\n",
       "                SJW           SJL          MaxW          MaxL          AvgW  \\\n",
       "count  15572.000000  15579.000000  25354.000000  25354.000000  25354.000000   \n",
       "mean       1.796538      3.557943      1.998610      7.847864      1.838168   \n",
       "std        1.004273      3.272510      1.582432    376.246830      1.089277   \n",
       "min        1.000000      1.010000      1.010000      1.010000      1.010000   \n",
       "25%        1.220000      1.730000      1.300000      1.840000      1.250000   \n",
       "50%        1.500000      2.630000      1.580000      2.750000      1.510000   \n",
       "75%        2.000000      4.000000      2.210000      4.470000      2.070000   \n",
       "max       19.000000     81.000000     76.000000  42586.000000     23.450000   \n",
       "\n",
       "               AvgL  \n",
       "count  25354.000000  \n",
       "mean       3.547658  \n",
       "std        3.227770  \n",
       "min        1.010000  \n",
       "25%        1.740000  \n",
       "50%        2.530000  \n",
       "75%        3.910000  \n",
       "max       36.440000  \n",
       "\n",
       "[8 rows x 33 columns]"
      ]
     },
     "execution_count": 8,
     "metadata": {},
     "output_type": "execute_result"
    }
   ],
   "source": [
    "# Generate descriptive statistics for numerical columns in the DataFrame\n",
    "betting_data_dfs.describe()"
   ]
  },
  {
   "cell_type": "markdown",
   "id": "dedf8e05",
   "metadata": {},
   "source": [
    "### Splitting the Dataset into Training and Validation"
   ]
  },
  {
   "cell_type": "code",
   "execution_count": 9,
   "id": "d7568ee0",
   "metadata": {},
   "outputs": [],
   "source": [
    "split_time = \"2019-01-01\"\n",
    "betting_data_train = betting_data_dfs[betting_data_dfs.Date < split_time]"
   ]
  },
  {
   "cell_type": "markdown",
   "id": "1f26fb38",
   "metadata": {},
   "source": [
    "### Preprocessing and Analysis of Betting Odds Training Dataset"
   ]
  },
  {
   "cell_type": "code",
   "execution_count": 10,
   "id": "0243597f",
   "metadata": {},
   "outputs": [],
   "source": [
    "# Preprocess the training dataset\n",
    "betting_data_preprocessed_train = preprocess_dataset(betting_data_train) "
   ]
  },
  {
   "cell_type": "code",
   "execution_count": 11,
   "id": "5873926a",
   "metadata": {},
   "outputs": [
    {
     "name": "stdout",
     "output_type": "stream",
     "text": [
      "<class 'pandas.core.frame.DataFrame'>\n",
      "Int64Index: 36334 entries, 0 to 37842\n",
      "Data columns (total 4 columns):\n",
      " #   Column           Non-Null Count  Dtype         \n",
      "---  ------           --------------  -----         \n",
      " 0   Date             36334 non-null  datetime64[ns]\n",
      " 1   WRank            36334 non-null  float64       \n",
      " 2   LRank            36334 non-null  float64       \n",
      " 3   higher_rank_won  36334 non-null  int64         \n",
      "dtypes: datetime64[ns](1), float64(2), int64(1)\n",
      "memory usage: 1.4 MB\n"
     ]
    }
   ],
   "source": [
    "# Display a concise summary of the preprocessed training dataset\n",
    "betting_data_preprocessed_train.info()"
   ]
  },
  {
   "cell_type": "markdown",
   "id": "0215ac60",
   "metadata": {},
   "source": [
    "### Preprocessing and Analysis of Betting Odds Validation Dataset"
   ]
  },
  {
   "cell_type": "code",
   "execution_count": 12,
   "id": "c2de28ce",
   "metadata": {},
   "outputs": [],
   "source": [
    "# Obtain Validation Dataset using split_time (2019-01-01)\n",
    "betting_data_validation = betting_data_dfs[betting_data_dfs.Date >= split_time]"
   ]
  },
  {
   "cell_type": "code",
   "execution_count": 13,
   "id": "0c9f665a",
   "metadata": {},
   "outputs": [],
   "source": [
    "# Apply preprocessing steps to the validation dataset\n",
    "betting_data_preprocessed_validation = preprocess_dataset(betting_data_validation)"
   ]
  },
  {
   "cell_type": "code",
   "execution_count": 14,
   "id": "dc3ce174",
   "metadata": {},
   "outputs": [
    {
     "data": {
      "text/html": [
       "<div>\n",
       "<style scoped>\n",
       "    .dataframe tbody tr th:only-of-type {\n",
       "        vertical-align: middle;\n",
       "    }\n",
       "\n",
       "    .dataframe tbody tr th {\n",
       "        vertical-align: top;\n",
       "    }\n",
       "\n",
       "    .dataframe thead th {\n",
       "        text-align: right;\n",
       "    }\n",
       "</style>\n",
       "<table border=\"1\" class=\"dataframe\">\n",
       "  <thead>\n",
       "    <tr style=\"text-align: right;\">\n",
       "      <th></th>\n",
       "      <th>Date</th>\n",
       "      <th>WRank</th>\n",
       "      <th>LRank</th>\n",
       "      <th>higher_rank_won</th>\n",
       "    </tr>\n",
       "  </thead>\n",
       "  <tbody>\n",
       "    <tr>\n",
       "      <th>37785</th>\n",
       "      <td>2019-01-01</td>\n",
       "      <td>63.0</td>\n",
       "      <td>49.0</td>\n",
       "      <td>0</td>\n",
       "    </tr>\n",
       "    <tr>\n",
       "      <th>37786</th>\n",
       "      <td>2019-01-01</td>\n",
       "      <td>40.0</td>\n",
       "      <td>57.0</td>\n",
       "      <td>1</td>\n",
       "    </tr>\n",
       "    <tr>\n",
       "      <th>37787</th>\n",
       "      <td>2019-01-01</td>\n",
       "      <td>240.0</td>\n",
       "      <td>234.0</td>\n",
       "      <td>0</td>\n",
       "    </tr>\n",
       "    <tr>\n",
       "      <th>37788</th>\n",
       "      <td>2019-01-01</td>\n",
       "      <td>35.0</td>\n",
       "      <td>62.0</td>\n",
       "      <td>1</td>\n",
       "    </tr>\n",
       "    <tr>\n",
       "      <th>37789</th>\n",
       "      <td>2019-01-01</td>\n",
       "      <td>239.0</td>\n",
       "      <td>146.0</td>\n",
       "      <td>0</td>\n",
       "    </tr>\n",
       "  </tbody>\n",
       "</table>\n",
       "</div>"
      ],
      "text/plain": [
       "            Date  WRank  LRank  higher_rank_won\n",
       "37785 2019-01-01   63.0   49.0                0\n",
       "37786 2019-01-01   40.0   57.0                1\n",
       "37787 2019-01-01  240.0  234.0                0\n",
       "37788 2019-01-01   35.0   62.0                1\n",
       "37789 2019-01-01  239.0  146.0                0"
      ]
     },
     "execution_count": 14,
     "metadata": {},
     "output_type": "execute_result"
    }
   ],
   "source": [
    "# Display the first 5 rows of the preprocessed validation dataset\n",
    "betting_data_preprocessed_validation.head()"
   ]
  },
  {
   "cell_type": "markdown",
   "id": "ef77a516",
   "metadata": {},
   "source": [
    "### Naive Prediction and Evaluation for Training Data"
   ]
  },
  {
   "cell_type": "code",
   "execution_count": 15,
   "id": "57f0acd5",
   "metadata": {},
   "outputs": [],
   "source": [
    "# Calculate the probability that the higher-ranked player wins in the preprocessed training dataset\n",
    "prob_higher_rank_win = probability_higher_ranked_wins(betting_data_preprocessed_train)"
   ]
  },
  {
   "cell_type": "code",
   "execution_count": 16,
   "id": "22c524ec",
   "metadata": {},
   "outputs": [
    {
     "name": "stdout",
     "output_type": "stream",
     "text": [
      "Naive Predictions for Training Data: [1 1 1 ... 1 1 1]\n",
      "\n",
      "Naive Probability Predictions for Training Data: [0.66808 0.66808 0.66808 ... 0.66808 0.66808 0.66808]\n"
     ]
    }
   ],
   "source": [
    "# Create a naive prediction array where we assume the higher-ranked player always wins (binary prediction)\n",
    "naive_predictions = np.full_like(betting_data_preprocessed_train[\"higher_rank_won\"], fill_value=1)\n",
    "\n",
    "# Print the naive binary predictions for the training data\n",
    "print(\"Naive Predictions for Training Data:\", naive_predictions)\n",
    "print()  # Print an empty line for better readability\n",
    "\n",
    "# Create a naive probability prediction array using the computed probability of higher-ranked players winning\n",
    "naive_probability_predictions = np.round(\n",
    "    np.full_like(betting_data_preprocessed_train[\"higher_rank_won\"], \n",
    "                 fill_value=prob_higher_rank_win, dtype='float64'), \n",
    "    5\n",
    ")\n",
    "\n",
    "# Print the naive probability predictions for the training data\n",
    "print(\"Naive Probability Predictions for Training Data:\", naive_probability_predictions)"
   ]
  },
  {
   "cell_type": "code",
   "execution_count": 17,
   "id": "5163b52d",
   "metadata": {},
   "outputs": [
    {
     "name": "stdout",
     "output_type": "stream",
     "text": [
      "Accuracy of Training Dataset: 0.66808\n",
      "Calibration of Training Dataset: 1.0\n",
      "Log Loss of Training Dataset: 0.63553\n"
     ]
    }
   ],
   "source": [
    "# Evaluate the naive predictions against the actual outcomes in the preprocessed training dataset\n",
    "evaluation_results_train = tennis_tools.evaluate_predictions(\n",
    "    betting_data_preprocessed_train[\"higher_rank_won\"], \n",
    "    naive_predictions, \n",
    "    naive_probability_predictions\n",
    ")\n",
    "\n",
    "# Unpack the evaluation metrics for the training dataset\n",
    "accuracy, calibration, log_loss = evaluation_results_train\n",
    "\n",
    "# Print the evaluation metrics for the training dataset\n",
    "print(f\"Accuracy of Training Dataset: {accuracy}\")\n",
    "print(f\"Calibration of Training Dataset: {calibration}\")\n",
    "print(f\"Log Loss of Training Dataset: {log_loss}\")"
   ]
  },
  {
   "cell_type": "markdown",
   "id": "2169aa33",
   "metadata": {},
   "source": [
    "### Naive Prediction and Evaluation for Validation Data"
   ]
  },
  {
   "cell_type": "code",
   "execution_count": 18,
   "id": "1fdcc579",
   "metadata": {},
   "outputs": [
    {
     "name": "stdout",
     "output_type": "stream",
     "text": [
      "Naive Predictions for Validation Data: [1 1 1 ... 1 1 1]\n",
      "\n",
      "Naive Probability Predictions for Validation Data: [0.66808 0.66808 0.66808 ... 0.66808 0.66808 0.66808]\n"
     ]
    }
   ],
   "source": [
    "# Create a naive prediction array assuming the higher-ranked player always wins (binary prediction)\n",
    "naive_predictions = np.full_like(betting_data_preprocessed_validation[\"higher_rank_won\"], fill_value=1)\n",
    "\n",
    "# Create a naive probability prediction array using the computed probability of higher-ranked players winning\n",
    "# from the training dataset\n",
    "naive_probability_predictions = np.round(\n",
    "    np.full_like(betting_data_preprocessed_validation[\"higher_rank_won\"], \n",
    "                 fill_value=prob_higher_rank_win, dtype='float64'), \n",
    "    5\n",
    ")\n",
    "\n",
    "# Print the naive binary and probability predictions for the validation data\n",
    "print(\"Naive Predictions for Validation Data:\", naive_predictions)\n",
    "print()  # Add a blank line for readability\n",
    "print(\"Naive Probability Predictions for Validation Data:\", naive_probability_predictions)"
   ]
  },
  {
   "cell_type": "code",
   "execution_count": 19,
   "id": "1fa18d66",
   "metadata": {},
   "outputs": [
    {
     "name": "stdout",
     "output_type": "stream",
     "text": [
      "Accuracy of Validation Dataset: 0.61361\n",
      "Calibration of Validation Dataset: 1.08877\n",
      "Log Loss of Validation Dataset: 0.67363\n"
     ]
    }
   ],
   "source": [
    "# Evaluate the naive predictions against the actual outcomes in the preprocessed validation dataset\n",
    "evaluation_results_validation = tennis_tools.evaluate_predictions(\n",
    "    betting_data_preprocessed_validation[\"higher_rank_won\"], \n",
    "    naive_predictions, \n",
    "    naive_probability_predictions\n",
    ")\n",
    "\n",
    "# Extract accuracy, calibration, and log loss from the validation evaluation results\n",
    "accuracy, calibration, log_loss = evaluation_results_validation\n",
    "\n",
    "# Print the evaluation metrics for the validation dataset\n",
    "print(f\"Accuracy of Validation Dataset: {accuracy}\")\n",
    "print(f\"Calibration of Validation Dataset: {calibration}\")\n",
    "print(f\"Log Loss of Validation Dataset: {log_loss}\")"
   ]
  }
 ],
 "metadata": {
  "kernelspec": {
   "display_name": "Python 3 (ipykernel)",
   "language": "python",
   "name": "python3"
  },
  "language_info": {
   "codemirror_mode": {
    "name": "ipython",
    "version": 3
   },
   "file_extension": ".py",
   "mimetype": "text/x-python",
   "name": "python",
   "nbconvert_exporter": "python",
   "pygments_lexer": "ipython3",
   "version": "3.9.13"
  },
  "toc": {
   "base_numbering": 1,
   "nav_menu": {},
   "number_sections": true,
   "sideBar": true,
   "skip_h1_title": false,
   "title_cell": "Table of Contents",
   "title_sidebar": "Contents",
   "toc_cell": false,
   "toc_position": {},
   "toc_section_display": true,
   "toc_window_display": false
  }
 },
 "nbformat": 4,
 "nbformat_minor": 5
}
